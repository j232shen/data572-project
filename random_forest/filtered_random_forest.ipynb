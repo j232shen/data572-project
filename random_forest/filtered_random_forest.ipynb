{
 "cells": [
  {
   "cell_type": "code",
   "execution_count": 1,
   "id": "21123871-91c1-4865-95be-6dd35e28b1d2",
   "metadata": {},
   "outputs": [],
   "source": [
    "import pandas as pd\n",
    "import numpy as np\n",
    "import altair as alt\n",
    "\n",
    "from sklearn import metrics  \n",
    "from sklearn.model_selection import GridSearchCV, cross_val_predict\n",
    "from sklearn.metrics import classification_report, confusion_matrix, ConfusionMatrixDisplay\n",
    "from sklearn.tree import DecisionTreeClassifier\n",
    "from sklearn.ensemble import RandomForestClassifier"
   ]
  },
  {
   "cell_type": "code",
   "execution_count": 7,
   "id": "6956432d-c00d-4a5a-ac49-795924eb5fd2",
   "metadata": {},
   "outputs": [
    {
     "name": "stdout",
     "output_type": "stream",
     "text": [
      "Cross-validated F1-score: 0.830364547625577\n"
     ]
    }
   ],
   "source": [
    "from sklearn.model_selection import StratifiedKFold, cross_val_score\n",
    "\n",
    "cv = StratifiedKFold(n_splits=5, shuffle=True, random_state=42)\n",
    "clf = RandomForestClassifier(random_state=42)\n",
    "\n",
    "data = pd.read_csv('../data/filtered_data_full.csv')\n",
    "y = data['Grade'] # series not df\n",
    "X = data.drop(columns=['Grade'])\n",
    "\n",
    "scores = cross_val_score(clf, X, y, cv=cv, scoring='f1_weighted')  # or accuracy\n",
    "print(\"Cross-validated F1-score:\", scores.mean())"
   ]
  },
  {
   "cell_type": "code",
   "execution_count": 8,
   "id": "c6593818-4694-4455-9a05-374a95868af3",
   "metadata": {},
   "outputs": [
    {
     "name": "stdout",
     "output_type": "stream",
     "text": [
      "Fitting 5 folds for each of 108 candidates, totalling 540 fits\n",
      "Best parameters: {'max_depth': None, 'min_samples_split': 4, 'n_estimators': 75}\n"
     ]
    }
   ],
   "source": [
    "# Define the hyperparameter grid\n",
    "param_grid = {\n",
    "    'n_estimators': [5, 10, 25, 50, 75, 100], # [50, 75, 100, 125, 150],  # Number of trees\n",
    "    'max_depth': [None, 1, 5, 10, 15, 20],  # Maximum depth of each tree\n",
    "    'min_samples_split': [2, 3, 4], # Number of samples required to split a node\n",
    "    # 'min_samples_leaf': [1, 2, 3, 4] # Number of samples required in leaf\n",
    "}\n",
    "\n",
    "# Initialize the RandomForest classifier\n",
    "clf = RandomForestClassifier(random_state=42)\n",
    "\n",
    "# Set up GridSearchCV with 5-fold cross-validation\n",
    "grid_search = GridSearchCV(\n",
    "    estimator=clf,\n",
    "    param_grid=param_grid,\n",
    "    cv=5,\n",
    "    scoring='f1_weighted',  # You can change this based on your evaluation metric\n",
    "    n_jobs=-1,  # Use all available processors\n",
    "    verbose=1  # To see progress\n",
    ")\n",
    "\n",
    "# Fit GridSearchCV\n",
    "grid_search.fit(X, y)\n",
    "\n",
    "# Best parameters from GridSearchCV\n",
    "print(\"Best parameters:\", grid_search.best_params_)\n",
    "\n",
    "# Use the best estimator from grid search\n",
    "best_clf = grid_search.best_estimator_"
   ]
  },
  {
   "cell_type": "code",
   "execution_count": 9,
   "id": "055cab9a-6d6f-4ffa-a9fe-cda3158e5bfa",
   "metadata": {},
   "outputs": [
    {
     "name": "stdout",
     "output_type": "stream",
     "text": [
      "Best F1 score from GridSearchCV: 0.8657743563625917\n"
     ]
    }
   ],
   "source": [
    "# Access the cross-validation results\n",
    "results = grid_search.cv_results_\n",
    "\n",
    "# The 'mean_test_score' will give the average F1 score for each hyperparameter combination\n",
    "best_f1_score = results['mean_test_score'][grid_search.best_index_]\n",
    "\n",
    "print(\"Best F1 score from GridSearchCV:\", best_f1_score)"
   ]
  },
  {
   "cell_type": "code",
   "execution_count": 10,
   "id": "25a8f05d-2781-4845-aeb5-56abceae4b5e",
   "metadata": {},
   "outputs": [
    {
     "data": {
      "text/html": [
       "\n",
       "<style>\n",
       "  #altair-viz-c19a165b0b4d4593a67178d6dda3bfca.vega-embed {\n",
       "    width: 100%;\n",
       "    display: flex;\n",
       "  }\n",
       "\n",
       "  #altair-viz-c19a165b0b4d4593a67178d6dda3bfca.vega-embed details,\n",
       "  #altair-viz-c19a165b0b4d4593a67178d6dda3bfca.vega-embed details summary {\n",
       "    position: relative;\n",
       "  }\n",
       "</style>\n",
       "<div id=\"altair-viz-c19a165b0b4d4593a67178d6dda3bfca\"></div>\n",
       "<script type=\"text/javascript\">\n",
       "  var VEGA_DEBUG = (typeof VEGA_DEBUG == \"undefined\") ? {} : VEGA_DEBUG;\n",
       "  (function(spec, embedOpt){\n",
       "    let outputDiv = document.currentScript.previousElementSibling;\n",
       "    if (outputDiv.id !== \"altair-viz-c19a165b0b4d4593a67178d6dda3bfca\") {\n",
       "      outputDiv = document.getElementById(\"altair-viz-c19a165b0b4d4593a67178d6dda3bfca\");\n",
       "    }\n",
       "\n",
       "    const paths = {\n",
       "      \"vega\": \"https://cdn.jsdelivr.net/npm/vega@5?noext\",\n",
       "      \"vega-lib\": \"https://cdn.jsdelivr.net/npm/vega-lib?noext\",\n",
       "      \"vega-lite\": \"https://cdn.jsdelivr.net/npm/vega-lite@5.20.1?noext\",\n",
       "      \"vega-embed\": \"https://cdn.jsdelivr.net/npm/vega-embed@6?noext\",\n",
       "    };\n",
       "\n",
       "    function maybeLoadScript(lib, version) {\n",
       "      var key = `${lib.replace(\"-\", \"\")}_version`;\n",
       "      return (VEGA_DEBUG[key] == version) ?\n",
       "        Promise.resolve(paths[lib]) :\n",
       "        new Promise(function(resolve, reject) {\n",
       "          var s = document.createElement('script');\n",
       "          document.getElementsByTagName(\"head\")[0].appendChild(s);\n",
       "          s.async = true;\n",
       "          s.onload = () => {\n",
       "            VEGA_DEBUG[key] = version;\n",
       "            return resolve(paths[lib]);\n",
       "          };\n",
       "          s.onerror = () => reject(`Error loading script: ${paths[lib]}`);\n",
       "          s.src = paths[lib];\n",
       "        });\n",
       "    }\n",
       "\n",
       "    function showError(err) {\n",
       "      outputDiv.innerHTML = `<div class=\"error\" style=\"color:red;\">${err}</div>`;\n",
       "      throw err;\n",
       "    }\n",
       "\n",
       "    function displayChart(vegaEmbed) {\n",
       "      vegaEmbed(outputDiv, spec, embedOpt)\n",
       "        .catch(err => showError(`Javascript Error: ${err.message}<br>This usually means there's a typo in your chart specification. See the javascript console for the full traceback.`));\n",
       "    }\n",
       "\n",
       "    if(typeof define === \"function\" && define.amd) {\n",
       "      requirejs.config({paths});\n",
       "      let deps = [\"vega-embed\"];\n",
       "      require(deps, displayChart, err => showError(`Error loading script: ${err.message}`));\n",
       "    } else {\n",
       "      maybeLoadScript(\"vega\", \"5\")\n",
       "        .then(() => maybeLoadScript(\"vega-lite\", \"5.20.1\"))\n",
       "        .then(() => maybeLoadScript(\"vega-embed\", \"6\"))\n",
       "        .catch(showError)\n",
       "        .then(() => displayChart(vegaEmbed));\n",
       "    }\n",
       "  })({\"config\": {\"view\": {\"continuousWidth\": 300, \"continuousHeight\": 300}}, \"data\": {\"name\": \"data-fe5a989d7c6d09f2bc64f5867d02f155\"}, \"facet\": {\"column\": {\"field\": \"max_depth\", \"sort\": [\"1\", \"5\", \"10\", \"15\", \"20\", \"None\"], \"type\": \"nominal\"}}, \"spec\": {\"mark\": {\"type\": \"line\"}, \"encoding\": {\"color\": {\"field\": \"max_depth\", \"sort\": [\"1\", \"5\", \"10\", \"15\", \"20\", \"None\"], \"type\": \"nominal\"}, \"x\": {\"axis\": {\"grid\": true}, \"field\": \"n_estimators\", \"type\": \"ordinal\"}, \"y\": {\"field\": \"F1 Score\", \"scale\": {\"domain\": [0.4, 1.0]}, \"type\": \"quantitative\"}}, \"height\": 150, \"width\": 150}, \"$schema\": \"https://vega.github.io/schema/vega-lite/v5.20.1.json\", \"datasets\": {\"data-fe5a989d7c6d09f2bc64f5867d02f155\": [{\"n_estimators\": 5, \"max_depth\": \"None\", \"F1 Score\": 0.7410520361990951}, {\"n_estimators\": 10, \"max_depth\": \"None\", \"F1 Score\": 0.7971828008592714}, {\"n_estimators\": 25, \"max_depth\": \"None\", \"F1 Score\": 0.8320609945609945}, {\"n_estimators\": 50, \"max_depth\": \"None\", \"F1 Score\": 0.8182091927680162}, {\"n_estimators\": 75, \"max_depth\": \"None\", \"F1 Score\": 0.8182091927680162}, {\"n_estimators\": 100, \"max_depth\": \"None\", \"F1 Score\": 0.8295490620490622}, {\"n_estimators\": 5, \"max_depth\": \"None\", \"F1 Score\": 0.8019414735591205}, {\"n_estimators\": 10, \"max_depth\": \"None\", \"F1 Score\": 0.7543392657179422}, {\"n_estimators\": 25, \"max_depth\": \"None\", \"F1 Score\": 0.7953582038876157}, {\"n_estimators\": 50, \"max_depth\": \"None\", \"F1 Score\": 0.8406098966393085}, {\"n_estimators\": 75, \"max_depth\": \"None\", \"F1 Score\": 0.8530579061461413}, {\"n_estimators\": 100, \"max_depth\": \"None\", \"F1 Score\": 0.8530579061461413}, {\"n_estimators\": 5, \"max_depth\": \"None\", \"F1 Score\": 0.7565670277434983}, {\"n_estimators\": 10, \"max_depth\": \"None\", \"F1 Score\": 0.7496449682814302}, {\"n_estimators\": 25, \"max_depth\": \"None\", \"F1 Score\": 0.8333475511416687}, {\"n_estimators\": 50, \"max_depth\": \"None\", \"F1 Score\": 0.8544344870815459}, {\"n_estimators\": 75, \"max_depth\": \"None\", \"F1 Score\": 0.8657743563625917}, {\"n_estimators\": 100, \"max_depth\": \"None\", \"F1 Score\": 0.8544344870815459}, {\"n_estimators\": 5, \"max_depth\": \"1\", \"F1 Score\": 0.6122394998552005}, {\"n_estimators\": 10, \"max_depth\": \"1\", \"F1 Score\": 0.623154532534939}, {\"n_estimators\": 25, \"max_depth\": \"1\", \"F1 Score\": 0.6037871639884024}, {\"n_estimators\": 50, \"max_depth\": \"1\", \"F1 Score\": 0.7196583044982698}, {\"n_estimators\": 75, \"max_depth\": \"1\", \"F1 Score\": 0.7311481630014798}, {\"n_estimators\": 100, \"max_depth\": \"1\", \"F1 Score\": 0.6795845293741851}, {\"n_estimators\": 5, \"max_depth\": \"1\", \"F1 Score\": 0.6122394998552005}, {\"n_estimators\": 10, \"max_depth\": \"1\", \"F1 Score\": 0.623154532534939}, {\"n_estimators\": 25, \"max_depth\": \"1\", \"F1 Score\": 0.6037871639884024}, {\"n_estimators\": 50, \"max_depth\": \"1\", \"F1 Score\": 0.7196583044982698}, {\"n_estimators\": 75, \"max_depth\": \"1\", \"F1 Score\": 0.7311481630014798}, {\"n_estimators\": 100, \"max_depth\": \"1\", \"F1 Score\": 0.6795845293741851}, {\"n_estimators\": 5, \"max_depth\": \"1\", \"F1 Score\": 0.6122394998552005}, {\"n_estimators\": 10, \"max_depth\": \"1\", \"F1 Score\": 0.623154532534939}, {\"n_estimators\": 25, \"max_depth\": \"1\", \"F1 Score\": 0.6037871639884024}, {\"n_estimators\": 50, \"max_depth\": \"1\", \"F1 Score\": 0.7196583044982698}, {\"n_estimators\": 75, \"max_depth\": \"1\", \"F1 Score\": 0.7311481630014798}, {\"n_estimators\": 100, \"max_depth\": \"1\", \"F1 Score\": 0.6795845293741851}, {\"n_estimators\": 5, \"max_depth\": \"5\", \"F1 Score\": 0.7099045696710057}, {\"n_estimators\": 10, \"max_depth\": \"5\", \"F1 Score\": 0.7118522237326304}, {\"n_estimators\": 25, \"max_depth\": \"5\", \"F1 Score\": 0.7735058834139716}, {\"n_estimators\": 50, \"max_depth\": \"5\", \"F1 Score\": 0.8417507166036577}, {\"n_estimators\": 75, \"max_depth\": \"5\", \"F1 Score\": 0.8417507166036577}, {\"n_estimators\": 100, \"max_depth\": \"5\", \"F1 Score\": 0.8368674299556652}, {\"n_estimators\": 5, \"max_depth\": \"5\", \"F1 Score\": 0.737895127748069}, {\"n_estimators\": 10, \"max_depth\": \"5\", \"F1 Score\": 0.7352261321195144}, {\"n_estimators\": 25, \"max_depth\": \"5\", \"F1 Score\": 0.7752705892963245}, {\"n_estimators\": 50, \"max_depth\": \"5\", \"F1 Score\": 0.8292700273582627}, {\"n_estimators\": 75, \"max_depth\": \"5\", \"F1 Score\": 0.8530579061461413}, {\"n_estimators\": 100, \"max_depth\": \"5\", \"F1 Score\": 0.8368674299556652}, {\"n_estimators\": 5, \"max_depth\": \"5\", \"F1 Score\": 0.75099376114082}, {\"n_estimators\": 10, \"max_depth\": \"5\", \"F1 Score\": 0.7646315224807871}, {\"n_estimators\": 25, \"max_depth\": \"5\", \"F1 Score\": 0.7734141206016206}, {\"n_estimators\": 50, \"max_depth\": \"5\", \"F1 Score\": 0.8417787278081394}, {\"n_estimators\": 75, \"max_depth\": \"5\", \"F1 Score\": 0.8417787278081394}, {\"n_estimators\": 100, \"max_depth\": \"5\", \"F1 Score\": 0.8385719754102107}, {\"n_estimators\": 5, \"max_depth\": \"10\", \"F1 Score\": 0.7410520361990951}, {\"n_estimators\": 10, \"max_depth\": \"10\", \"F1 Score\": 0.7971828008592714}, {\"n_estimators\": 25, \"max_depth\": \"10\", \"F1 Score\": 0.8320609945609945}, {\"n_estimators\": 50, \"max_depth\": \"10\", \"F1 Score\": 0.8182091927680162}, {\"n_estimators\": 75, \"max_depth\": \"10\", \"F1 Score\": 0.8182091927680162}, {\"n_estimators\": 100, \"max_depth\": \"10\", \"F1 Score\": 0.8295490620490622}, {\"n_estimators\": 5, \"max_depth\": \"10\", \"F1 Score\": 0.8019414735591205}, {\"n_estimators\": 10, \"max_depth\": \"10\", \"F1 Score\": 0.7543392657179422}, {\"n_estimators\": 25, \"max_depth\": \"10\", \"F1 Score\": 0.7953582038876157}, {\"n_estimators\": 50, \"max_depth\": \"10\", \"F1 Score\": 0.8406098966393085}, {\"n_estimators\": 75, \"max_depth\": \"10\", \"F1 Score\": 0.8530579061461413}, {\"n_estimators\": 100, \"max_depth\": \"10\", \"F1 Score\": 0.8530579061461413}, {\"n_estimators\": 5, \"max_depth\": \"10\", \"F1 Score\": 0.7565670277434983}, {\"n_estimators\": 10, \"max_depth\": \"10\", \"F1 Score\": 0.7496449682814302}, {\"n_estimators\": 25, \"max_depth\": \"10\", \"F1 Score\": 0.8333475511416687}, {\"n_estimators\": 50, \"max_depth\": \"10\", \"F1 Score\": 0.8544344870815459}, {\"n_estimators\": 75, \"max_depth\": \"10\", \"F1 Score\": 0.8657743563625917}, {\"n_estimators\": 100, \"max_depth\": \"10\", \"F1 Score\": 0.8544344870815459}, {\"n_estimators\": 5, \"max_depth\": \"15\", \"F1 Score\": 0.7410520361990951}, {\"n_estimators\": 10, \"max_depth\": \"15\", \"F1 Score\": 0.7971828008592714}, {\"n_estimators\": 25, \"max_depth\": \"15\", \"F1 Score\": 0.8320609945609945}, {\"n_estimators\": 50, \"max_depth\": \"15\", \"F1 Score\": 0.8182091927680162}, {\"n_estimators\": 75, \"max_depth\": \"15\", \"F1 Score\": 0.8182091927680162}, {\"n_estimators\": 100, \"max_depth\": \"15\", \"F1 Score\": 0.8295490620490622}, {\"n_estimators\": 5, \"max_depth\": \"15\", \"F1 Score\": 0.8019414735591205}, {\"n_estimators\": 10, \"max_depth\": \"15\", \"F1 Score\": 0.7543392657179422}, {\"n_estimators\": 25, \"max_depth\": \"15\", \"F1 Score\": 0.7953582038876157}, {\"n_estimators\": 50, \"max_depth\": \"15\", \"F1 Score\": 0.8406098966393085}, {\"n_estimators\": 75, \"max_depth\": \"15\", \"F1 Score\": 0.8530579061461413}, {\"n_estimators\": 100, \"max_depth\": \"15\", \"F1 Score\": 0.8530579061461413}, {\"n_estimators\": 5, \"max_depth\": \"15\", \"F1 Score\": 0.7565670277434983}, {\"n_estimators\": 10, \"max_depth\": \"15\", \"F1 Score\": 0.7496449682814302}, {\"n_estimators\": 25, \"max_depth\": \"15\", \"F1 Score\": 0.8333475511416687}, {\"n_estimators\": 50, \"max_depth\": \"15\", \"F1 Score\": 0.8544344870815459}, {\"n_estimators\": 75, \"max_depth\": \"15\", \"F1 Score\": 0.8657743563625917}, {\"n_estimators\": 100, \"max_depth\": \"15\", \"F1 Score\": 0.8544344870815459}, {\"n_estimators\": 5, \"max_depth\": \"20\", \"F1 Score\": 0.7410520361990951}, {\"n_estimators\": 10, \"max_depth\": \"20\", \"F1 Score\": 0.7971828008592714}, {\"n_estimators\": 25, \"max_depth\": \"20\", \"F1 Score\": 0.8320609945609945}, {\"n_estimators\": 50, \"max_depth\": \"20\", \"F1 Score\": 0.8182091927680162}, {\"n_estimators\": 75, \"max_depth\": \"20\", \"F1 Score\": 0.8182091927680162}, {\"n_estimators\": 100, \"max_depth\": \"20\", \"F1 Score\": 0.8295490620490622}, {\"n_estimators\": 5, \"max_depth\": \"20\", \"F1 Score\": 0.8019414735591205}, {\"n_estimators\": 10, \"max_depth\": \"20\", \"F1 Score\": 0.7543392657179422}, {\"n_estimators\": 25, \"max_depth\": \"20\", \"F1 Score\": 0.7953582038876157}, {\"n_estimators\": 50, \"max_depth\": \"20\", \"F1 Score\": 0.8406098966393085}, {\"n_estimators\": 75, \"max_depth\": \"20\", \"F1 Score\": 0.8530579061461413}, {\"n_estimators\": 100, \"max_depth\": \"20\", \"F1 Score\": 0.8530579061461413}, {\"n_estimators\": 5, \"max_depth\": \"20\", \"F1 Score\": 0.7565670277434983}, {\"n_estimators\": 10, \"max_depth\": \"20\", \"F1 Score\": 0.7496449682814302}, {\"n_estimators\": 25, \"max_depth\": \"20\", \"F1 Score\": 0.8333475511416687}, {\"n_estimators\": 50, \"max_depth\": \"20\", \"F1 Score\": 0.8544344870815459}, {\"n_estimators\": 75, \"max_depth\": \"20\", \"F1 Score\": 0.8657743563625917}, {\"n_estimators\": 100, \"max_depth\": \"20\", \"F1 Score\": 0.8544344870815459}]}}, {\"mode\": \"vega-lite\"});\n",
       "</script>"
      ],
      "text/plain": [
       "alt.FacetChart(...)"
      ]
     },
     "execution_count": 10,
     "metadata": {},
     "output_type": "execute_result"
    }
   ],
   "source": [
    "# Extract hyperparameter values and F1-scores\n",
    "n_estimators_values = results['param_n_estimators']\n",
    "max_depth_values = results['param_max_depth'].data.astype(str)\n",
    "f1_scores = results['mean_test_score']\n",
    "\n",
    "# Create DataFrame from GridSearchCV results\n",
    "gridsearch = pd.DataFrame({\n",
    "    'n_estimators': n_estimators_values,\n",
    "    'max_depth': max_depth_values,\n",
    "    'F1 Score': f1_scores\n",
    "})\n",
    "\n",
    "# plotting F1 score vs number of trees by tree depth\n",
    "max_depth_order = ['1', '5', '10', '15', '20', 'None']\n",
    "\n",
    "alt.Chart(gridsearch).mark_line().encode(\n",
    "    x = alt.X('n_estimators:O', axis=alt.Axis(grid=True)),\n",
    "    y = alt.Y('F1 Score:Q', scale=alt.Scale(domain=[0.40, 1.00])),\n",
    "    color=alt.Color('max_depth:N', sort=max_depth_order)\n",
    ").properties(\n",
    "    height=150, \n",
    "    width=150\n",
    ").facet(\n",
    "    column=alt.Column('max_depth:N', sort=max_depth_order)\n",
    ")"
   ]
  },
  {
   "cell_type": "code",
   "execution_count": 11,
   "id": "9a79e38a-64ab-4556-8b50-1ba2b74dfefd",
   "metadata": {},
   "outputs": [
    {
     "data": {
      "text/html": [
       "\n",
       "<style>\n",
       "  #altair-viz-c0a06a43dbf74359b2fd0c0a44556f4b.vega-embed {\n",
       "    width: 100%;\n",
       "    display: flex;\n",
       "  }\n",
       "\n",
       "  #altair-viz-c0a06a43dbf74359b2fd0c0a44556f4b.vega-embed details,\n",
       "  #altair-viz-c0a06a43dbf74359b2fd0c0a44556f4b.vega-embed details summary {\n",
       "    position: relative;\n",
       "  }\n",
       "</style>\n",
       "<div id=\"altair-viz-c0a06a43dbf74359b2fd0c0a44556f4b\"></div>\n",
       "<script type=\"text/javascript\">\n",
       "  var VEGA_DEBUG = (typeof VEGA_DEBUG == \"undefined\") ? {} : VEGA_DEBUG;\n",
       "  (function(spec, embedOpt){\n",
       "    let outputDiv = document.currentScript.previousElementSibling;\n",
       "    if (outputDiv.id !== \"altair-viz-c0a06a43dbf74359b2fd0c0a44556f4b\") {\n",
       "      outputDiv = document.getElementById(\"altair-viz-c0a06a43dbf74359b2fd0c0a44556f4b\");\n",
       "    }\n",
       "\n",
       "    const paths = {\n",
       "      \"vega\": \"https://cdn.jsdelivr.net/npm/vega@5?noext\",\n",
       "      \"vega-lib\": \"https://cdn.jsdelivr.net/npm/vega-lib?noext\",\n",
       "      \"vega-lite\": \"https://cdn.jsdelivr.net/npm/vega-lite@5.20.1?noext\",\n",
       "      \"vega-embed\": \"https://cdn.jsdelivr.net/npm/vega-embed@6?noext\",\n",
       "    };\n",
       "\n",
       "    function maybeLoadScript(lib, version) {\n",
       "      var key = `${lib.replace(\"-\", \"\")}_version`;\n",
       "      return (VEGA_DEBUG[key] == version) ?\n",
       "        Promise.resolve(paths[lib]) :\n",
       "        new Promise(function(resolve, reject) {\n",
       "          var s = document.createElement('script');\n",
       "          document.getElementsByTagName(\"head\")[0].appendChild(s);\n",
       "          s.async = true;\n",
       "          s.onload = () => {\n",
       "            VEGA_DEBUG[key] = version;\n",
       "            return resolve(paths[lib]);\n",
       "          };\n",
       "          s.onerror = () => reject(`Error loading script: ${paths[lib]}`);\n",
       "          s.src = paths[lib];\n",
       "        });\n",
       "    }\n",
       "\n",
       "    function showError(err) {\n",
       "      outputDiv.innerHTML = `<div class=\"error\" style=\"color:red;\">${err}</div>`;\n",
       "      throw err;\n",
       "    }\n",
       "\n",
       "    function displayChart(vegaEmbed) {\n",
       "      vegaEmbed(outputDiv, spec, embedOpt)\n",
       "        .catch(err => showError(`Javascript Error: ${err.message}<br>This usually means there's a typo in your chart specification. See the javascript console for the full traceback.`));\n",
       "    }\n",
       "\n",
       "    if(typeof define === \"function\" && define.amd) {\n",
       "      requirejs.config({paths});\n",
       "      let deps = [\"vega-embed\"];\n",
       "      require(deps, displayChart, err => showError(`Error loading script: ${err.message}`));\n",
       "    } else {\n",
       "      maybeLoadScript(\"vega\", \"5\")\n",
       "        .then(() => maybeLoadScript(\"vega-lite\", \"5.20.1\"))\n",
       "        .then(() => maybeLoadScript(\"vega-embed\", \"6\"))\n",
       "        .catch(showError)\n",
       "        .then(() => displayChart(vegaEmbed));\n",
       "    }\n",
       "  })({\"config\": {\"view\": {\"continuousWidth\": 300, \"continuousHeight\": 300}}, \"data\": {\"name\": \"data-fe5a989d7c6d09f2bc64f5867d02f155\"}, \"facet\": {\"column\": {\"field\": \"n_estimators\", \"type\": \"ordinal\"}}, \"spec\": {\"mark\": {\"type\": \"line\"}, \"encoding\": {\"color\": {\"field\": \"n_estimators\", \"type\": \"ordinal\"}, \"x\": {\"axis\": {\"grid\": true}, \"field\": \"max_depth\", \"sort\": [\"1\", \"5\", \"10\", \"15\", \"20\", \"None\"], \"type\": \"nominal\"}, \"y\": {\"field\": \"F1 Score\", \"scale\": {\"domain\": [0.5, 1.0]}, \"type\": \"quantitative\"}}, \"height\": 150, \"width\": 150}, \"$schema\": \"https://vega.github.io/schema/vega-lite/v5.20.1.json\", \"datasets\": {\"data-fe5a989d7c6d09f2bc64f5867d02f155\": [{\"n_estimators\": 5, \"max_depth\": \"None\", \"F1 Score\": 0.7410520361990951}, {\"n_estimators\": 10, \"max_depth\": \"None\", \"F1 Score\": 0.7971828008592714}, {\"n_estimators\": 25, \"max_depth\": \"None\", \"F1 Score\": 0.8320609945609945}, {\"n_estimators\": 50, \"max_depth\": \"None\", \"F1 Score\": 0.8182091927680162}, {\"n_estimators\": 75, \"max_depth\": \"None\", \"F1 Score\": 0.8182091927680162}, {\"n_estimators\": 100, \"max_depth\": \"None\", \"F1 Score\": 0.8295490620490622}, {\"n_estimators\": 5, \"max_depth\": \"None\", \"F1 Score\": 0.8019414735591205}, {\"n_estimators\": 10, \"max_depth\": \"None\", \"F1 Score\": 0.7543392657179422}, {\"n_estimators\": 25, \"max_depth\": \"None\", \"F1 Score\": 0.7953582038876157}, {\"n_estimators\": 50, \"max_depth\": \"None\", \"F1 Score\": 0.8406098966393085}, {\"n_estimators\": 75, \"max_depth\": \"None\", \"F1 Score\": 0.8530579061461413}, {\"n_estimators\": 100, \"max_depth\": \"None\", \"F1 Score\": 0.8530579061461413}, {\"n_estimators\": 5, \"max_depth\": \"None\", \"F1 Score\": 0.7565670277434983}, {\"n_estimators\": 10, \"max_depth\": \"None\", \"F1 Score\": 0.7496449682814302}, {\"n_estimators\": 25, \"max_depth\": \"None\", \"F1 Score\": 0.8333475511416687}, {\"n_estimators\": 50, \"max_depth\": \"None\", \"F1 Score\": 0.8544344870815459}, {\"n_estimators\": 75, \"max_depth\": \"None\", \"F1 Score\": 0.8657743563625917}, {\"n_estimators\": 100, \"max_depth\": \"None\", \"F1 Score\": 0.8544344870815459}, {\"n_estimators\": 5, \"max_depth\": \"1\", \"F1 Score\": 0.6122394998552005}, {\"n_estimators\": 10, \"max_depth\": \"1\", \"F1 Score\": 0.623154532534939}, {\"n_estimators\": 25, \"max_depth\": \"1\", \"F1 Score\": 0.6037871639884024}, {\"n_estimators\": 50, \"max_depth\": \"1\", \"F1 Score\": 0.7196583044982698}, {\"n_estimators\": 75, \"max_depth\": \"1\", \"F1 Score\": 0.7311481630014798}, {\"n_estimators\": 100, \"max_depth\": \"1\", \"F1 Score\": 0.6795845293741851}, {\"n_estimators\": 5, \"max_depth\": \"1\", \"F1 Score\": 0.6122394998552005}, {\"n_estimators\": 10, \"max_depth\": \"1\", \"F1 Score\": 0.623154532534939}, {\"n_estimators\": 25, \"max_depth\": \"1\", \"F1 Score\": 0.6037871639884024}, {\"n_estimators\": 50, \"max_depth\": \"1\", \"F1 Score\": 0.7196583044982698}, {\"n_estimators\": 75, \"max_depth\": \"1\", \"F1 Score\": 0.7311481630014798}, {\"n_estimators\": 100, \"max_depth\": \"1\", \"F1 Score\": 0.6795845293741851}, {\"n_estimators\": 5, \"max_depth\": \"1\", \"F1 Score\": 0.6122394998552005}, {\"n_estimators\": 10, \"max_depth\": \"1\", \"F1 Score\": 0.623154532534939}, {\"n_estimators\": 25, \"max_depth\": \"1\", \"F1 Score\": 0.6037871639884024}, {\"n_estimators\": 50, \"max_depth\": \"1\", \"F1 Score\": 0.7196583044982698}, {\"n_estimators\": 75, \"max_depth\": \"1\", \"F1 Score\": 0.7311481630014798}, {\"n_estimators\": 100, \"max_depth\": \"1\", \"F1 Score\": 0.6795845293741851}, {\"n_estimators\": 5, \"max_depth\": \"5\", \"F1 Score\": 0.7099045696710057}, {\"n_estimators\": 10, \"max_depth\": \"5\", \"F1 Score\": 0.7118522237326304}, {\"n_estimators\": 25, \"max_depth\": \"5\", \"F1 Score\": 0.7735058834139716}, {\"n_estimators\": 50, \"max_depth\": \"5\", \"F1 Score\": 0.8417507166036577}, {\"n_estimators\": 75, \"max_depth\": \"5\", \"F1 Score\": 0.8417507166036577}, {\"n_estimators\": 100, \"max_depth\": \"5\", \"F1 Score\": 0.8368674299556652}, {\"n_estimators\": 5, \"max_depth\": \"5\", \"F1 Score\": 0.737895127748069}, {\"n_estimators\": 10, \"max_depth\": \"5\", \"F1 Score\": 0.7352261321195144}, {\"n_estimators\": 25, \"max_depth\": \"5\", \"F1 Score\": 0.7752705892963245}, {\"n_estimators\": 50, \"max_depth\": \"5\", \"F1 Score\": 0.8292700273582627}, {\"n_estimators\": 75, \"max_depth\": \"5\", \"F1 Score\": 0.8530579061461413}, {\"n_estimators\": 100, \"max_depth\": \"5\", \"F1 Score\": 0.8368674299556652}, {\"n_estimators\": 5, \"max_depth\": \"5\", \"F1 Score\": 0.75099376114082}, {\"n_estimators\": 10, \"max_depth\": \"5\", \"F1 Score\": 0.7646315224807871}, {\"n_estimators\": 25, \"max_depth\": \"5\", \"F1 Score\": 0.7734141206016206}, {\"n_estimators\": 50, \"max_depth\": \"5\", \"F1 Score\": 0.8417787278081394}, {\"n_estimators\": 75, \"max_depth\": \"5\", \"F1 Score\": 0.8417787278081394}, {\"n_estimators\": 100, \"max_depth\": \"5\", \"F1 Score\": 0.8385719754102107}, {\"n_estimators\": 5, \"max_depth\": \"10\", \"F1 Score\": 0.7410520361990951}, {\"n_estimators\": 10, \"max_depth\": \"10\", \"F1 Score\": 0.7971828008592714}, {\"n_estimators\": 25, \"max_depth\": \"10\", \"F1 Score\": 0.8320609945609945}, {\"n_estimators\": 50, \"max_depth\": \"10\", \"F1 Score\": 0.8182091927680162}, {\"n_estimators\": 75, \"max_depth\": \"10\", \"F1 Score\": 0.8182091927680162}, {\"n_estimators\": 100, \"max_depth\": \"10\", \"F1 Score\": 0.8295490620490622}, {\"n_estimators\": 5, \"max_depth\": \"10\", \"F1 Score\": 0.8019414735591205}, {\"n_estimators\": 10, \"max_depth\": \"10\", \"F1 Score\": 0.7543392657179422}, {\"n_estimators\": 25, \"max_depth\": \"10\", \"F1 Score\": 0.7953582038876157}, {\"n_estimators\": 50, \"max_depth\": \"10\", \"F1 Score\": 0.8406098966393085}, {\"n_estimators\": 75, \"max_depth\": \"10\", \"F1 Score\": 0.8530579061461413}, {\"n_estimators\": 100, \"max_depth\": \"10\", \"F1 Score\": 0.8530579061461413}, {\"n_estimators\": 5, \"max_depth\": \"10\", \"F1 Score\": 0.7565670277434983}, {\"n_estimators\": 10, \"max_depth\": \"10\", \"F1 Score\": 0.7496449682814302}, {\"n_estimators\": 25, \"max_depth\": \"10\", \"F1 Score\": 0.8333475511416687}, {\"n_estimators\": 50, \"max_depth\": \"10\", \"F1 Score\": 0.8544344870815459}, {\"n_estimators\": 75, \"max_depth\": \"10\", \"F1 Score\": 0.8657743563625917}, {\"n_estimators\": 100, \"max_depth\": \"10\", \"F1 Score\": 0.8544344870815459}, {\"n_estimators\": 5, \"max_depth\": \"15\", \"F1 Score\": 0.7410520361990951}, {\"n_estimators\": 10, \"max_depth\": \"15\", \"F1 Score\": 0.7971828008592714}, {\"n_estimators\": 25, \"max_depth\": \"15\", \"F1 Score\": 0.8320609945609945}, {\"n_estimators\": 50, \"max_depth\": \"15\", \"F1 Score\": 0.8182091927680162}, {\"n_estimators\": 75, \"max_depth\": \"15\", \"F1 Score\": 0.8182091927680162}, {\"n_estimators\": 100, \"max_depth\": \"15\", \"F1 Score\": 0.8295490620490622}, {\"n_estimators\": 5, \"max_depth\": \"15\", \"F1 Score\": 0.8019414735591205}, {\"n_estimators\": 10, \"max_depth\": \"15\", \"F1 Score\": 0.7543392657179422}, {\"n_estimators\": 25, \"max_depth\": \"15\", \"F1 Score\": 0.7953582038876157}, {\"n_estimators\": 50, \"max_depth\": \"15\", \"F1 Score\": 0.8406098966393085}, {\"n_estimators\": 75, \"max_depth\": \"15\", \"F1 Score\": 0.8530579061461413}, {\"n_estimators\": 100, \"max_depth\": \"15\", \"F1 Score\": 0.8530579061461413}, {\"n_estimators\": 5, \"max_depth\": \"15\", \"F1 Score\": 0.7565670277434983}, {\"n_estimators\": 10, \"max_depth\": \"15\", \"F1 Score\": 0.7496449682814302}, {\"n_estimators\": 25, \"max_depth\": \"15\", \"F1 Score\": 0.8333475511416687}, {\"n_estimators\": 50, \"max_depth\": \"15\", \"F1 Score\": 0.8544344870815459}, {\"n_estimators\": 75, \"max_depth\": \"15\", \"F1 Score\": 0.8657743563625917}, {\"n_estimators\": 100, \"max_depth\": \"15\", \"F1 Score\": 0.8544344870815459}, {\"n_estimators\": 5, \"max_depth\": \"20\", \"F1 Score\": 0.7410520361990951}, {\"n_estimators\": 10, \"max_depth\": \"20\", \"F1 Score\": 0.7971828008592714}, {\"n_estimators\": 25, \"max_depth\": \"20\", \"F1 Score\": 0.8320609945609945}, {\"n_estimators\": 50, \"max_depth\": \"20\", \"F1 Score\": 0.8182091927680162}, {\"n_estimators\": 75, \"max_depth\": \"20\", \"F1 Score\": 0.8182091927680162}, {\"n_estimators\": 100, \"max_depth\": \"20\", \"F1 Score\": 0.8295490620490622}, {\"n_estimators\": 5, \"max_depth\": \"20\", \"F1 Score\": 0.8019414735591205}, {\"n_estimators\": 10, \"max_depth\": \"20\", \"F1 Score\": 0.7543392657179422}, {\"n_estimators\": 25, \"max_depth\": \"20\", \"F1 Score\": 0.7953582038876157}, {\"n_estimators\": 50, \"max_depth\": \"20\", \"F1 Score\": 0.8406098966393085}, {\"n_estimators\": 75, \"max_depth\": \"20\", \"F1 Score\": 0.8530579061461413}, {\"n_estimators\": 100, \"max_depth\": \"20\", \"F1 Score\": 0.8530579061461413}, {\"n_estimators\": 5, \"max_depth\": \"20\", \"F1 Score\": 0.7565670277434983}, {\"n_estimators\": 10, \"max_depth\": \"20\", \"F1 Score\": 0.7496449682814302}, {\"n_estimators\": 25, \"max_depth\": \"20\", \"F1 Score\": 0.8333475511416687}, {\"n_estimators\": 50, \"max_depth\": \"20\", \"F1 Score\": 0.8544344870815459}, {\"n_estimators\": 75, \"max_depth\": \"20\", \"F1 Score\": 0.8657743563625917}, {\"n_estimators\": 100, \"max_depth\": \"20\", \"F1 Score\": 0.8544344870815459}]}}, {\"mode\": \"vega-lite\"});\n",
       "</script>"
      ],
      "text/plain": [
       "alt.FacetChart(...)"
      ]
     },
     "execution_count": 11,
     "metadata": {},
     "output_type": "execute_result"
    }
   ],
   "source": [
    "# plotting F1 score vs tree depth by number of trees\n",
    "max_depth_order = ['1', '5', '10', '15', '20', 'None']\n",
    "\n",
    "alt.Chart(gridsearch).mark_line().encode(\n",
    "    x = alt.X('max_depth:N', axis=alt.Axis(grid=True), sort=max_depth_order),\n",
    "    y = alt.Y('F1 Score:Q', scale=alt.Scale(domain=[0.50, 1.00])),\n",
    "    color=alt.Color('n_estimators:O')\n",
    ").properties(\n",
    "    height=150, \n",
    "    width=150\n",
    ").facet(\n",
    "    column=alt.Column('n_estimators:O')\n",
    ")"
   ]
  },
  {
   "cell_type": "code",
   "execution_count": null,
   "id": "12a408d6-732c-47e7-a870-a5a87928a9ec",
   "metadata": {},
   "outputs": [],
   "source": []
  }
 ],
 "metadata": {
  "kernelspec": {
   "display_name": "Python (new_base)",
   "language": "python",
   "name": "new_base"
  },
  "language_info": {
   "codemirror_mode": {
    "name": "ipython",
    "version": 3
   },
   "file_extension": ".py",
   "mimetype": "text/x-python",
   "name": "python",
   "nbconvert_exporter": "python",
   "pygments_lexer": "ipython3",
   "version": "3.11.10"
  }
 },
 "nbformat": 4,
 "nbformat_minor": 5
}
