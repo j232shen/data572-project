{
 "cells": [
  {
   "cell_type": "code",
   "execution_count": 1,
   "id": "21123871-91c1-4865-95be-6dd35e28b1d2",
   "metadata": {},
   "outputs": [],
   "source": [
    "import pandas as pd\n",
    "import numpy as np\n",
    "import matplotlib.pyplot as plt\n",
    "\n",
    "from sklearn import metrics  \n",
    "from sklearn.model_selection import GridSearchCV, cross_val_predict\n",
    "from sklearn.metrics import classification_report, confusion_matrix, ConfusionMatrixDisplay\n",
    "from sklearn.tree import DecisionTreeClassifier\n",
    "from sklearn.ensemble import RandomForestClassifier"
   ]
  },
  {
   "cell_type": "code",
   "execution_count": 5,
   "id": "6956432d-c00d-4a5a-ac49-795924eb5fd2",
   "metadata": {},
   "outputs": [
    {
     "name": "stdout",
     "output_type": "stream",
     "text": [
      "Cross-validated F1-score: 0.830364547625577\n"
     ]
    }
   ],
   "source": [
    "from sklearn.model_selection import StratifiedKFold, cross_val_score\n",
    "\n",
    "cv = StratifiedKFold(n_splits=5, shuffle=True, random_state=42)\n",
    "clf = RandomForestClassifier(random_state=42)\n",
    "\n",
    "data = pd.read_csv('filtered_data_full.csv')\n",
    "y = data['Grade'] # series not df\n",
    "X = data.drop(columns=['Grade'])\n",
    "\n",
    "scores = cross_val_score(clf, X, y, cv=cv, scoring='f1_weighted')  # or accuracy\n",
    "print(\"Cross-validated F1-score:\", scores.mean())"
   ]
  },
  {
   "cell_type": "code",
   "execution_count": 13,
   "id": "c6593818-4694-4455-9a05-374a95868af3",
   "metadata": {},
   "outputs": [
    {
     "name": "stdout",
     "output_type": "stream",
     "text": [
      "Fitting 5 folds for each of 300 candidates, totalling 1500 fits\n",
      "Best parameters: {'max_depth': None, 'min_samples_leaf': 1, 'min_samples_split': 3, 'n_estimators': 200}\n"
     ]
    }
   ],
   "source": [
    "# Define the hyperparameter grid\n",
    "param_grid = {\n",
    "    'n_estimators': [50, 75, 100, 125, 200], # [50, 75, 100, 125, 150],  # Number of trees\n",
    "    'max_depth': [None, 5, 10, 15, 20],  # Maximum depth of each tree\n",
    "    'min_samples_split': [2, 3, 4], # Number of samples required to split a node\n",
    "    'min_samples_leaf': [1, 2, 3, 4] # Number of samples required in leaf\n",
    "}\n",
    "\n",
    "# Initialize the RandomForest classifier\n",
    "clf = RandomForestClassifier(random_state=42)\n",
    "\n",
    "# Set up GridSearchCV with 5-fold cross-validation\n",
    "grid_search = GridSearchCV(\n",
    "    estimator=clf,\n",
    "    param_grid=param_grid,\n",
    "    cv=5,\n",
    "    scoring='f1_macro',  # You can change this based on your evaluation metric\n",
    "    n_jobs=-1,  # Use all available processors\n",
    "    verbose=1  # To see progress\n",
    ")\n",
    "\n",
    "# Fit GridSearchCV\n",
    "grid_search.fit(X, y)\n",
    "\n",
    "# Best parameters from GridSearchCV\n",
    "print(\"Best parameters:\", grid_search.best_params_)\n",
    "\n",
    "# Use the best estimator from grid search\n",
    "best_clf = grid_search.best_estimator_"
   ]
  },
  {
   "cell_type": "code",
   "execution_count": 14,
   "id": "055cab9a-6d6f-4ffa-a9fe-cda3158e5bfa",
   "metadata": {},
   "outputs": [
    {
     "name": "stdout",
     "output_type": "stream",
     "text": [
      "Best F1 score from GridSearchCV: 0.866169016169016\n"
     ]
    }
   ],
   "source": [
    "# Access the cross-validation results\n",
    "cv_results = grid_search.cv_results_\n",
    "\n",
    "# The 'mean_test_score' will give the average F1 score for each hyperparameter combination\n",
    "best_f1_score = cv_results['mean_test_score'][grid_search.best_index_]\n",
    "\n",
    "print(\"Best F1 score from GridSearchCV:\", best_f1_score)"
   ]
  },
  {
   "cell_type": "code",
   "execution_count": null,
   "id": "25a8f05d-2781-4845-aeb5-56abceae4b5e",
   "metadata": {},
   "outputs": [],
   "source": []
  }
 ],
 "metadata": {
  "kernelspec": {
   "display_name": "Python (new_base)",
   "language": "python",
   "name": "new_base"
  },
  "language_info": {
   "codemirror_mode": {
    "name": "ipython",
    "version": 3
   },
   "file_extension": ".py",
   "mimetype": "text/x-python",
   "name": "python",
   "nbconvert_exporter": "python",
   "pygments_lexer": "ipython3",
   "version": "3.11.10"
  }
 },
 "nbformat": 4,
 "nbformat_minor": 5
}
