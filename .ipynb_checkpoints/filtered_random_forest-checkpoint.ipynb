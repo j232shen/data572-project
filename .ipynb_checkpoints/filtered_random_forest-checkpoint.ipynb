{
 "cells": [
  {
   "cell_type": "code",
   "execution_count": 19,
   "id": "21123871-91c1-4865-95be-6dd35e28b1d2",
   "metadata": {},
   "outputs": [],
   "source": [
    "import pandas as pd\n",
    "import numpy as np\n",
    "import altair as alt\n",
    "\n",
    "from sklearn import metrics  \n",
    "from sklearn.model_selection import GridSearchCV, cross_val_predict\n",
    "from sklearn.metrics import classification_report, confusion_matrix, ConfusionMatrixDisplay\n",
    "from sklearn.tree import DecisionTreeClassifier\n",
    "from sklearn.ensemble import RandomForestClassifier"
   ]
  },
  {
   "cell_type": "code",
   "execution_count": 5,
   "id": "6956432d-c00d-4a5a-ac49-795924eb5fd2",
   "metadata": {},
   "outputs": [
    {
     "name": "stdout",
     "output_type": "stream",
     "text": [
      "Cross-validated F1-score: 0.830364547625577\n"
     ]
    }
   ],
   "source": [
    "from sklearn.model_selection import StratifiedKFold, cross_val_score\n",
    "\n",
    "cv = StratifiedKFold(n_splits=5, shuffle=True, random_state=42)\n",
    "clf = RandomForestClassifier(random_state=42)\n",
    "\n",
    "data = pd.read_csv('filtered_data_full.csv')\n",
    "y = data['Grade'] # series not df\n",
    "X = data.drop(columns=['Grade'])\n",
    "\n",
    "scores = cross_val_score(clf, X, y, cv=cv, scoring='f1_weighted')  # or accuracy\n",
    "print(\"Cross-validated F1-score:\", scores.mean())"
   ]
  },
  {
   "cell_type": "code",
   "execution_count": 15,
   "id": "c6593818-4694-4455-9a05-374a95868af3",
   "metadata": {},
   "outputs": [
    {
     "name": "stdout",
     "output_type": "stream",
     "text": [
      "Fitting 5 folds for each of 108 candidates, totalling 540 fits\n",
      "Best parameters: {'max_depth': None, 'min_samples_split': 4, 'n_estimators': 75}\n"
     ]
    }
   ],
   "source": [
    "# Define the hyperparameter grid\n",
    "param_grid = {\n",
    "    'n_estimators': [5, 10, 25, 50, 75, 100], # [50, 75, 100, 125, 150],  # Number of trees\n",
    "    'max_depth': [None, 1, 5, 10, 15, 20],  # Maximum depth of each tree\n",
    "    'min_samples_split': [2, 3, 4], # Number of samples required to split a node\n",
    "    # 'min_samples_leaf': [1, 2, 3, 4] # Number of samples required in leaf\n",
    "}\n",
    "\n",
    "# Initialize the RandomForest classifier\n",
    "clf = RandomForestClassifier(random_state=42)\n",
    "\n",
    "# Set up GridSearchCV with 5-fold cross-validation\n",
    "grid_search = GridSearchCV(\n",
    "    estimator=clf,\n",
    "    param_grid=param_grid,\n",
    "    cv=5,\n",
    "    scoring='f1_macro',  # You can change this based on your evaluation metric\n",
    "    n_jobs=-1,  # Use all available processors\n",
    "    verbose=1  # To see progress\n",
    ")\n",
    "\n",
    "# Fit GridSearchCV\n",
    "grid_search.fit(X, y)\n",
    "\n",
    "# Best parameters from GridSearchCV\n",
    "print(\"Best parameters:\", grid_search.best_params_)\n",
    "\n",
    "# Use the best estimator from grid search\n",
    "best_clf = grid_search.best_estimator_"
   ]
  },
  {
   "cell_type": "code",
   "execution_count": 17,
   "id": "055cab9a-6d6f-4ffa-a9fe-cda3158e5bfa",
   "metadata": {},
   "outputs": [
    {
     "name": "stdout",
     "output_type": "stream",
     "text": [
      "Best F1 score from GridSearchCV: 0.8628356828356827\n"
     ]
    }
   ],
   "source": [
    "# Access the cross-validation results\n",
    "results = grid_search.cv_results_\n",
    "\n",
    "# The 'mean_test_score' will give the average F1 score for each hyperparameter combination\n",
    "best_f1_score = results['mean_test_score'][grid_search.best_index_]\n",
    "\n",
    "print(\"Best F1 score from GridSearchCV:\", best_f1_score)"
   ]
  },
  {
   "cell_type": "code",
   "execution_count": 22,
   "id": "25a8f05d-2781-4845-aeb5-56abceae4b5e",
   "metadata": {},
   "outputs": [
    {
     "data": {
      "text/html": [
       "\n",
       "<style>\n",
       "  #altair-viz-0ed6475bb9dc4e859299bc65ca937c8e.vega-embed {\n",
       "    width: 100%;\n",
       "    display: flex;\n",
       "  }\n",
       "\n",
       "  #altair-viz-0ed6475bb9dc4e859299bc65ca937c8e.vega-embed details,\n",
       "  #altair-viz-0ed6475bb9dc4e859299bc65ca937c8e.vega-embed details summary {\n",
       "    position: relative;\n",
       "  }\n",
       "</style>\n",
       "<div id=\"altair-viz-0ed6475bb9dc4e859299bc65ca937c8e\"></div>\n",
       "<script type=\"text/javascript\">\n",
       "  var VEGA_DEBUG = (typeof VEGA_DEBUG == \"undefined\") ? {} : VEGA_DEBUG;\n",
       "  (function(spec, embedOpt){\n",
       "    let outputDiv = document.currentScript.previousElementSibling;\n",
       "    if (outputDiv.id !== \"altair-viz-0ed6475bb9dc4e859299bc65ca937c8e\") {\n",
       "      outputDiv = document.getElementById(\"altair-viz-0ed6475bb9dc4e859299bc65ca937c8e\");\n",
       "    }\n",
       "\n",
       "    const paths = {\n",
       "      \"vega\": \"https://cdn.jsdelivr.net/npm/vega@5?noext\",\n",
       "      \"vega-lib\": \"https://cdn.jsdelivr.net/npm/vega-lib?noext\",\n",
       "      \"vega-lite\": \"https://cdn.jsdelivr.net/npm/vega-lite@5.20.1?noext\",\n",
       "      \"vega-embed\": \"https://cdn.jsdelivr.net/npm/vega-embed@6?noext\",\n",
       "    };\n",
       "\n",
       "    function maybeLoadScript(lib, version) {\n",
       "      var key = `${lib.replace(\"-\", \"\")}_version`;\n",
       "      return (VEGA_DEBUG[key] == version) ?\n",
       "        Promise.resolve(paths[lib]) :\n",
       "        new Promise(function(resolve, reject) {\n",
       "          var s = document.createElement('script');\n",
       "          document.getElementsByTagName(\"head\")[0].appendChild(s);\n",
       "          s.async = true;\n",
       "          s.onload = () => {\n",
       "            VEGA_DEBUG[key] = version;\n",
       "            return resolve(paths[lib]);\n",
       "          };\n",
       "          s.onerror = () => reject(`Error loading script: ${paths[lib]}`);\n",
       "          s.src = paths[lib];\n",
       "        });\n",
       "    }\n",
       "\n",
       "    function showError(err) {\n",
       "      outputDiv.innerHTML = `<div class=\"error\" style=\"color:red;\">${err}</div>`;\n",
       "      throw err;\n",
       "    }\n",
       "\n",
       "    function displayChart(vegaEmbed) {\n",
       "      vegaEmbed(outputDiv, spec, embedOpt)\n",
       "        .catch(err => showError(`Javascript Error: ${err.message}<br>This usually means there's a typo in your chart specification. See the javascript console for the full traceback.`));\n",
       "    }\n",
       "\n",
       "    if(typeof define === \"function\" && define.amd) {\n",
       "      requirejs.config({paths});\n",
       "      let deps = [\"vega-embed\"];\n",
       "      require(deps, displayChart, err => showError(`Error loading script: ${err.message}`));\n",
       "    } else {\n",
       "      maybeLoadScript(\"vega\", \"5\")\n",
       "        .then(() => maybeLoadScript(\"vega-lite\", \"5.20.1\"))\n",
       "        .then(() => maybeLoadScript(\"vega-embed\", \"6\"))\n",
       "        .catch(showError)\n",
       "        .then(() => displayChart(vegaEmbed));\n",
       "    }\n",
       "  })({\"config\": {\"view\": {\"continuousWidth\": 300, \"continuousHeight\": 300}}, \"data\": {\"name\": \"data-531f7e52005a763f7a6c78b289f9c65c\"}, \"facet\": {\"column\": {\"field\": \"max_depth\", \"sort\": [\"1\", \"5\", \"10\", \"15\", \"20\", \"None\"], \"type\": \"nominal\"}}, \"spec\": {\"mark\": {\"type\": \"line\"}, \"encoding\": {\"color\": {\"field\": \"max_depth\", \"sort\": [\"1\", \"5\", \"10\", \"15\", \"20\", \"None\"], \"type\": \"nominal\"}, \"x\": {\"axis\": {\"grid\": true}, \"field\": \"n_estimators\", \"type\": \"ordinal\"}, \"y\": {\"field\": \"F1 Score\", \"scale\": {\"domain\": [0.4, 1.0]}, \"type\": \"quantitative\"}}, \"height\": 150, \"width\": 150}, \"$schema\": \"https://vega.github.io/schema/vega-lite/v5.20.1.json\", \"datasets\": {\"data-531f7e52005a763f7a6c78b289f9c65c\": [{\"n_estimators\": 5, \"max_depth\": \"None\", \"F1 Score\": 0.7258262108262108}, {\"n_estimators\": 10, \"max_depth\": \"None\", \"F1 Score\": 0.7846755096755096}, {\"n_estimators\": 25, \"max_depth\": \"None\", \"F1 Score\": 0.8260295260295261}, {\"n_estimators\": 50, \"max_depth\": \"None\", \"F1 Score\": 0.8129413179413179}, {\"n_estimators\": 75, \"max_depth\": \"None\", \"F1 Score\": 0.8129413179413179}, {\"n_estimators\": 100, \"max_depth\": \"None\", \"F1 Score\": 0.8242376142376141}, {\"n_estimators\": 5, \"max_depth\": \"None\", \"F1 Score\": 0.7905098605098604}, {\"n_estimators\": 10, \"max_depth\": \"None\", \"F1 Score\": 0.742996817996818}, {\"n_estimators\": 25, \"max_depth\": \"None\", \"F1 Score\": 0.7872101972101972}, {\"n_estimators\": 50, \"max_depth\": \"None\", \"F1 Score\": 0.8353080253080252}, {\"n_estimators\": 75, \"max_depth\": \"None\", \"F1 Score\": 0.8494157694157692}, {\"n_estimators\": 100, \"max_depth\": \"None\", \"F1 Score\": 0.8494157694157692}, {\"n_estimators\": 5, \"max_depth\": \"None\", \"F1 Score\": 0.7423604173604174}, {\"n_estimators\": 10, \"max_depth\": \"None\", \"F1 Score\": 0.741185807656396}, {\"n_estimators\": 25, \"max_depth\": \"None\", \"F1 Score\": 0.8280663780663782}, {\"n_estimators\": 50, \"max_depth\": \"None\", \"F1 Score\": 0.8515393865393864}, {\"n_estimators\": 75, \"max_depth\": \"None\", \"F1 Score\": 0.8628356828356827}, {\"n_estimators\": 100, \"max_depth\": \"None\", \"F1 Score\": 0.8515393865393864}, {\"n_estimators\": 5, \"max_depth\": \"1\", \"F1 Score\": 0.588093398975752}, {\"n_estimators\": 10, \"max_depth\": \"1\", \"F1 Score\": 0.5995748804572334}, {\"n_estimators\": 25, \"max_depth\": \"1\", \"F1 Score\": 0.5783402951824004}, {\"n_estimators\": 50, \"max_depth\": \"1\", \"F1 Score\": 0.7061002178649238}, {\"n_estimators\": 75, \"max_depth\": \"1\", \"F1 Score\": 0.7141810929581828}, {\"n_estimators\": 100, \"max_depth\": \"1\", \"F1 Score\": 0.6643342015168641}, {\"n_estimators\": 5, \"max_depth\": \"1\", \"F1 Score\": 0.588093398975752}, {\"n_estimators\": 10, \"max_depth\": \"1\", \"F1 Score\": 0.5995748804572334}, {\"n_estimators\": 25, \"max_depth\": \"1\", \"F1 Score\": 0.5783402951824004}, {\"n_estimators\": 50, \"max_depth\": \"1\", \"F1 Score\": 0.7061002178649238}, {\"n_estimators\": 75, \"max_depth\": \"1\", \"F1 Score\": 0.7141810929581828}, {\"n_estimators\": 100, \"max_depth\": \"1\", \"F1 Score\": 0.6643342015168641}, {\"n_estimators\": 5, \"max_depth\": \"1\", \"F1 Score\": 0.588093398975752}, {\"n_estimators\": 10, \"max_depth\": \"1\", \"F1 Score\": 0.5995748804572334}, {\"n_estimators\": 25, \"max_depth\": \"1\", \"F1 Score\": 0.5783402951824004}, {\"n_estimators\": 50, \"max_depth\": \"1\", \"F1 Score\": 0.7061002178649238}, {\"n_estimators\": 75, \"max_depth\": \"1\", \"F1 Score\": 0.7141810929581828}, {\"n_estimators\": 100, \"max_depth\": \"1\", \"F1 Score\": 0.6643342015168641}, {\"n_estimators\": 5, \"max_depth\": \"5\", \"F1 Score\": 0.6914098972922502}, {\"n_estimators\": 10, \"max_depth\": \"5\", \"F1 Score\": 0.698208839091192}, {\"n_estimators\": 25, \"max_depth\": \"5\", \"F1 Score\": 0.7638215488215488}, {\"n_estimators\": 50, \"max_depth\": \"5\", \"F1 Score\": 0.835077145077145}, {\"n_estimators\": 75, \"max_depth\": \"5\", \"F1 Score\": 0.835077145077145}, {\"n_estimators\": 100, \"max_depth\": \"5\", \"F1 Score\": 0.8297332297332296}, {\"n_estimators\": 5, \"max_depth\": \"5\", \"F1 Score\": 0.721077441077441}, {\"n_estimators\": 10, \"max_depth\": \"5\", \"F1 Score\": 0.7222751322751322}, {\"n_estimators\": 25, \"max_depth\": \"5\", \"F1 Score\": 0.7681072631072631}, {\"n_estimators\": 50, \"max_depth\": \"5\", \"F1 Score\": 0.824011729011729}, {\"n_estimators\": 75, \"max_depth\": \"5\", \"F1 Score\": 0.8494157694157692}, {\"n_estimators\": 100, \"max_depth\": \"5\", \"F1 Score\": 0.8297332297332296}, {\"n_estimators\": 5, \"max_depth\": \"5\", \"F1 Score\": 0.7364622414622415}, {\"n_estimators\": 10, \"max_depth\": \"5\", \"F1 Score\": 0.7584330484330485}, {\"n_estimators\": 25, \"max_depth\": \"5\", \"F1 Score\": 0.7651128501128501}, {\"n_estimators\": 50, \"max_depth\": \"5\", \"F1 Score\": 0.8363469863469863}, {\"n_estimators\": 75, \"max_depth\": \"5\", \"F1 Score\": 0.8363469863469863}, {\"n_estimators\": 100, \"max_depth\": \"5\", \"F1 Score\": 0.8312483812483812}, {\"n_estimators\": 5, \"max_depth\": \"10\", \"F1 Score\": 0.7258262108262108}, {\"n_estimators\": 10, \"max_depth\": \"10\", \"F1 Score\": 0.7846755096755096}, {\"n_estimators\": 25, \"max_depth\": \"10\", \"F1 Score\": 0.8260295260295261}, {\"n_estimators\": 50, \"max_depth\": \"10\", \"F1 Score\": 0.8129413179413179}, {\"n_estimators\": 75, \"max_depth\": \"10\", \"F1 Score\": 0.8129413179413179}, {\"n_estimators\": 100, \"max_depth\": \"10\", \"F1 Score\": 0.8242376142376141}, {\"n_estimators\": 5, \"max_depth\": \"10\", \"F1 Score\": 0.7905098605098604}, {\"n_estimators\": 10, \"max_depth\": \"10\", \"F1 Score\": 0.742996817996818}, {\"n_estimators\": 25, \"max_depth\": \"10\", \"F1 Score\": 0.7872101972101972}, {\"n_estimators\": 50, \"max_depth\": \"10\", \"F1 Score\": 0.8353080253080252}, {\"n_estimators\": 75, \"max_depth\": \"10\", \"F1 Score\": 0.8494157694157692}, {\"n_estimators\": 100, \"max_depth\": \"10\", \"F1 Score\": 0.8494157694157692}, {\"n_estimators\": 5, \"max_depth\": \"10\", \"F1 Score\": 0.7423604173604174}, {\"n_estimators\": 10, \"max_depth\": \"10\", \"F1 Score\": 0.741185807656396}, {\"n_estimators\": 25, \"max_depth\": \"10\", \"F1 Score\": 0.8280663780663782}, {\"n_estimators\": 50, \"max_depth\": \"10\", \"F1 Score\": 0.8515393865393864}, {\"n_estimators\": 75, \"max_depth\": \"10\", \"F1 Score\": 0.8628356828356827}, {\"n_estimators\": 100, \"max_depth\": \"10\", \"F1 Score\": 0.8515393865393864}, {\"n_estimators\": 5, \"max_depth\": \"15\", \"F1 Score\": 0.7258262108262108}, {\"n_estimators\": 10, \"max_depth\": \"15\", \"F1 Score\": 0.7846755096755096}, {\"n_estimators\": 25, \"max_depth\": \"15\", \"F1 Score\": 0.8260295260295261}, {\"n_estimators\": 50, \"max_depth\": \"15\", \"F1 Score\": 0.8129413179413179}, {\"n_estimators\": 75, \"max_depth\": \"15\", \"F1 Score\": 0.8129413179413179}, {\"n_estimators\": 100, \"max_depth\": \"15\", \"F1 Score\": 0.8242376142376141}, {\"n_estimators\": 5, \"max_depth\": \"15\", \"F1 Score\": 0.7905098605098604}, {\"n_estimators\": 10, \"max_depth\": \"15\", \"F1 Score\": 0.742996817996818}, {\"n_estimators\": 25, \"max_depth\": \"15\", \"F1 Score\": 0.7872101972101972}, {\"n_estimators\": 50, \"max_depth\": \"15\", \"F1 Score\": 0.8353080253080252}, {\"n_estimators\": 75, \"max_depth\": \"15\", \"F1 Score\": 0.8494157694157692}, {\"n_estimators\": 100, \"max_depth\": \"15\", \"F1 Score\": 0.8494157694157692}, {\"n_estimators\": 5, \"max_depth\": \"15\", \"F1 Score\": 0.7423604173604174}, {\"n_estimators\": 10, \"max_depth\": \"15\", \"F1 Score\": 0.741185807656396}, {\"n_estimators\": 25, \"max_depth\": \"15\", \"F1 Score\": 0.8280663780663782}, {\"n_estimators\": 50, \"max_depth\": \"15\", \"F1 Score\": 0.8515393865393864}, {\"n_estimators\": 75, \"max_depth\": \"15\", \"F1 Score\": 0.8628356828356827}, {\"n_estimators\": 100, \"max_depth\": \"15\", \"F1 Score\": 0.8515393865393864}, {\"n_estimators\": 5, \"max_depth\": \"20\", \"F1 Score\": 0.7258262108262108}, {\"n_estimators\": 10, \"max_depth\": \"20\", \"F1 Score\": 0.7846755096755096}, {\"n_estimators\": 25, \"max_depth\": \"20\", \"F1 Score\": 0.8260295260295261}, {\"n_estimators\": 50, \"max_depth\": \"20\", \"F1 Score\": 0.8129413179413179}, {\"n_estimators\": 75, \"max_depth\": \"20\", \"F1 Score\": 0.8129413179413179}, {\"n_estimators\": 100, \"max_depth\": \"20\", \"F1 Score\": 0.8242376142376141}, {\"n_estimators\": 5, \"max_depth\": \"20\", \"F1 Score\": 0.7905098605098604}, {\"n_estimators\": 10, \"max_depth\": \"20\", \"F1 Score\": 0.742996817996818}, {\"n_estimators\": 25, \"max_depth\": \"20\", \"F1 Score\": 0.7872101972101972}, {\"n_estimators\": 50, \"max_depth\": \"20\", \"F1 Score\": 0.8353080253080252}, {\"n_estimators\": 75, \"max_depth\": \"20\", \"F1 Score\": 0.8494157694157692}, {\"n_estimators\": 100, \"max_depth\": \"20\", \"F1 Score\": 0.8494157694157692}, {\"n_estimators\": 5, \"max_depth\": \"20\", \"F1 Score\": 0.7423604173604174}, {\"n_estimators\": 10, \"max_depth\": \"20\", \"F1 Score\": 0.741185807656396}, {\"n_estimators\": 25, \"max_depth\": \"20\", \"F1 Score\": 0.8280663780663782}, {\"n_estimators\": 50, \"max_depth\": \"20\", \"F1 Score\": 0.8515393865393864}, {\"n_estimators\": 75, \"max_depth\": \"20\", \"F1 Score\": 0.8628356828356827}, {\"n_estimators\": 100, \"max_depth\": \"20\", \"F1 Score\": 0.8515393865393864}]}}, {\"mode\": \"vega-lite\"});\n",
       "</script>"
      ],
      "text/plain": [
       "alt.FacetChart(...)"
      ]
     },
     "execution_count": 22,
     "metadata": {},
     "output_type": "execute_result"
    }
   ],
   "source": [
    "# Extract hyperparameter values and F1-scores\n",
    "n_estimators_values = results['param_n_estimators']\n",
    "max_depth_values = results['param_max_depth'].data.astype(str)\n",
    "f1_scores = results['mean_test_score']\n",
    "\n",
    "# Create DataFrame from GridSearchCV results\n",
    "gridsearch = pd.DataFrame({\n",
    "    'n_estimators': n_estimators_values,\n",
    "    'max_depth': max_depth_values,\n",
    "    'F1 Score': f1_scores\n",
    "})\n",
    "\n",
    "# plotting F1 score vs number of trees by tree depth\n",
    "max_depth_order = ['1', '5', '10', '15', '20', 'None']\n",
    "\n",
    "alt.Chart(gridsearch).mark_line().encode(\n",
    "    x = alt.X('n_estimators:O', axis=alt.Axis(grid=True)),\n",
    "    y = alt.Y('F1 Score:Q', scale=alt.Scale(domain=[0.40, 1.00])),\n",
    "    color=alt.Color('max_depth:N', sort=max_depth_order)\n",
    ").properties(\n",
    "    height=150, \n",
    "    width=150\n",
    ").facet(\n",
    "    column=alt.Column('max_depth:N', sort=max_depth_order)\n",
    ")"
   ]
  },
  {
   "cell_type": "code",
   "execution_count": 21,
   "id": "9a79e38a-64ab-4556-8b50-1ba2b74dfefd",
   "metadata": {},
   "outputs": [
    {
     "data": {
      "text/html": [
       "\n",
       "<style>\n",
       "  #altair-viz-6fe61ab7720244dfb043a27bb85fb68f.vega-embed {\n",
       "    width: 100%;\n",
       "    display: flex;\n",
       "  }\n",
       "\n",
       "  #altair-viz-6fe61ab7720244dfb043a27bb85fb68f.vega-embed details,\n",
       "  #altair-viz-6fe61ab7720244dfb043a27bb85fb68f.vega-embed details summary {\n",
       "    position: relative;\n",
       "  }\n",
       "</style>\n",
       "<div id=\"altair-viz-6fe61ab7720244dfb043a27bb85fb68f\"></div>\n",
       "<script type=\"text/javascript\">\n",
       "  var VEGA_DEBUG = (typeof VEGA_DEBUG == \"undefined\") ? {} : VEGA_DEBUG;\n",
       "  (function(spec, embedOpt){\n",
       "    let outputDiv = document.currentScript.previousElementSibling;\n",
       "    if (outputDiv.id !== \"altair-viz-6fe61ab7720244dfb043a27bb85fb68f\") {\n",
       "      outputDiv = document.getElementById(\"altair-viz-6fe61ab7720244dfb043a27bb85fb68f\");\n",
       "    }\n",
       "\n",
       "    const paths = {\n",
       "      \"vega\": \"https://cdn.jsdelivr.net/npm/vega@5?noext\",\n",
       "      \"vega-lib\": \"https://cdn.jsdelivr.net/npm/vega-lib?noext\",\n",
       "      \"vega-lite\": \"https://cdn.jsdelivr.net/npm/vega-lite@5.20.1?noext\",\n",
       "      \"vega-embed\": \"https://cdn.jsdelivr.net/npm/vega-embed@6?noext\",\n",
       "    };\n",
       "\n",
       "    function maybeLoadScript(lib, version) {\n",
       "      var key = `${lib.replace(\"-\", \"\")}_version`;\n",
       "      return (VEGA_DEBUG[key] == version) ?\n",
       "        Promise.resolve(paths[lib]) :\n",
       "        new Promise(function(resolve, reject) {\n",
       "          var s = document.createElement('script');\n",
       "          document.getElementsByTagName(\"head\")[0].appendChild(s);\n",
       "          s.async = true;\n",
       "          s.onload = () => {\n",
       "            VEGA_DEBUG[key] = version;\n",
       "            return resolve(paths[lib]);\n",
       "          };\n",
       "          s.onerror = () => reject(`Error loading script: ${paths[lib]}`);\n",
       "          s.src = paths[lib];\n",
       "        });\n",
       "    }\n",
       "\n",
       "    function showError(err) {\n",
       "      outputDiv.innerHTML = `<div class=\"error\" style=\"color:red;\">${err}</div>`;\n",
       "      throw err;\n",
       "    }\n",
       "\n",
       "    function displayChart(vegaEmbed) {\n",
       "      vegaEmbed(outputDiv, spec, embedOpt)\n",
       "        .catch(err => showError(`Javascript Error: ${err.message}<br>This usually means there's a typo in your chart specification. See the javascript console for the full traceback.`));\n",
       "    }\n",
       "\n",
       "    if(typeof define === \"function\" && define.amd) {\n",
       "      requirejs.config({paths});\n",
       "      let deps = [\"vega-embed\"];\n",
       "      require(deps, displayChart, err => showError(`Error loading script: ${err.message}`));\n",
       "    } else {\n",
       "      maybeLoadScript(\"vega\", \"5\")\n",
       "        .then(() => maybeLoadScript(\"vega-lite\", \"5.20.1\"))\n",
       "        .then(() => maybeLoadScript(\"vega-embed\", \"6\"))\n",
       "        .catch(showError)\n",
       "        .then(() => displayChart(vegaEmbed));\n",
       "    }\n",
       "  })({\"config\": {\"view\": {\"continuousWidth\": 300, \"continuousHeight\": 300}}, \"data\": {\"name\": \"data-531f7e52005a763f7a6c78b289f9c65c\"}, \"facet\": {\"column\": {\"field\": \"n_estimators\", \"type\": \"ordinal\"}}, \"spec\": {\"mark\": {\"type\": \"line\"}, \"encoding\": {\"color\": {\"field\": \"n_estimators\", \"type\": \"ordinal\"}, \"x\": {\"axis\": {\"grid\": true}, \"field\": \"max_depth\", \"sort\": [\"1\", \"5\", \"10\", \"15\", \"20\", \"None\"], \"type\": \"nominal\"}, \"y\": {\"field\": \"F1 Score\", \"scale\": {\"domain\": [0.5, 1.0]}, \"type\": \"quantitative\"}}, \"height\": 150, \"width\": 150}, \"$schema\": \"https://vega.github.io/schema/vega-lite/v5.20.1.json\", \"datasets\": {\"data-531f7e52005a763f7a6c78b289f9c65c\": [{\"n_estimators\": 5, \"max_depth\": \"None\", \"F1 Score\": 0.7258262108262108}, {\"n_estimators\": 10, \"max_depth\": \"None\", \"F1 Score\": 0.7846755096755096}, {\"n_estimators\": 25, \"max_depth\": \"None\", \"F1 Score\": 0.8260295260295261}, {\"n_estimators\": 50, \"max_depth\": \"None\", \"F1 Score\": 0.8129413179413179}, {\"n_estimators\": 75, \"max_depth\": \"None\", \"F1 Score\": 0.8129413179413179}, {\"n_estimators\": 100, \"max_depth\": \"None\", \"F1 Score\": 0.8242376142376141}, {\"n_estimators\": 5, \"max_depth\": \"None\", \"F1 Score\": 0.7905098605098604}, {\"n_estimators\": 10, \"max_depth\": \"None\", \"F1 Score\": 0.742996817996818}, {\"n_estimators\": 25, \"max_depth\": \"None\", \"F1 Score\": 0.7872101972101972}, {\"n_estimators\": 50, \"max_depth\": \"None\", \"F1 Score\": 0.8353080253080252}, {\"n_estimators\": 75, \"max_depth\": \"None\", \"F1 Score\": 0.8494157694157692}, {\"n_estimators\": 100, \"max_depth\": \"None\", \"F1 Score\": 0.8494157694157692}, {\"n_estimators\": 5, \"max_depth\": \"None\", \"F1 Score\": 0.7423604173604174}, {\"n_estimators\": 10, \"max_depth\": \"None\", \"F1 Score\": 0.741185807656396}, {\"n_estimators\": 25, \"max_depth\": \"None\", \"F1 Score\": 0.8280663780663782}, {\"n_estimators\": 50, \"max_depth\": \"None\", \"F1 Score\": 0.8515393865393864}, {\"n_estimators\": 75, \"max_depth\": \"None\", \"F1 Score\": 0.8628356828356827}, {\"n_estimators\": 100, \"max_depth\": \"None\", \"F1 Score\": 0.8515393865393864}, {\"n_estimators\": 5, \"max_depth\": \"1\", \"F1 Score\": 0.588093398975752}, {\"n_estimators\": 10, \"max_depth\": \"1\", \"F1 Score\": 0.5995748804572334}, {\"n_estimators\": 25, \"max_depth\": \"1\", \"F1 Score\": 0.5783402951824004}, {\"n_estimators\": 50, \"max_depth\": \"1\", \"F1 Score\": 0.7061002178649238}, {\"n_estimators\": 75, \"max_depth\": \"1\", \"F1 Score\": 0.7141810929581828}, {\"n_estimators\": 100, \"max_depth\": \"1\", \"F1 Score\": 0.6643342015168641}, {\"n_estimators\": 5, \"max_depth\": \"1\", \"F1 Score\": 0.588093398975752}, {\"n_estimators\": 10, \"max_depth\": \"1\", \"F1 Score\": 0.5995748804572334}, {\"n_estimators\": 25, \"max_depth\": \"1\", \"F1 Score\": 0.5783402951824004}, {\"n_estimators\": 50, \"max_depth\": \"1\", \"F1 Score\": 0.7061002178649238}, {\"n_estimators\": 75, \"max_depth\": \"1\", \"F1 Score\": 0.7141810929581828}, {\"n_estimators\": 100, \"max_depth\": \"1\", \"F1 Score\": 0.6643342015168641}, {\"n_estimators\": 5, \"max_depth\": \"1\", \"F1 Score\": 0.588093398975752}, {\"n_estimators\": 10, \"max_depth\": \"1\", \"F1 Score\": 0.5995748804572334}, {\"n_estimators\": 25, \"max_depth\": \"1\", \"F1 Score\": 0.5783402951824004}, {\"n_estimators\": 50, \"max_depth\": \"1\", \"F1 Score\": 0.7061002178649238}, {\"n_estimators\": 75, \"max_depth\": \"1\", \"F1 Score\": 0.7141810929581828}, {\"n_estimators\": 100, \"max_depth\": \"1\", \"F1 Score\": 0.6643342015168641}, {\"n_estimators\": 5, \"max_depth\": \"5\", \"F1 Score\": 0.6914098972922502}, {\"n_estimators\": 10, \"max_depth\": \"5\", \"F1 Score\": 0.698208839091192}, {\"n_estimators\": 25, \"max_depth\": \"5\", \"F1 Score\": 0.7638215488215488}, {\"n_estimators\": 50, \"max_depth\": \"5\", \"F1 Score\": 0.835077145077145}, {\"n_estimators\": 75, \"max_depth\": \"5\", \"F1 Score\": 0.835077145077145}, {\"n_estimators\": 100, \"max_depth\": \"5\", \"F1 Score\": 0.8297332297332296}, {\"n_estimators\": 5, \"max_depth\": \"5\", \"F1 Score\": 0.721077441077441}, {\"n_estimators\": 10, \"max_depth\": \"5\", \"F1 Score\": 0.7222751322751322}, {\"n_estimators\": 25, \"max_depth\": \"5\", \"F1 Score\": 0.7681072631072631}, {\"n_estimators\": 50, \"max_depth\": \"5\", \"F1 Score\": 0.824011729011729}, {\"n_estimators\": 75, \"max_depth\": \"5\", \"F1 Score\": 0.8494157694157692}, {\"n_estimators\": 100, \"max_depth\": \"5\", \"F1 Score\": 0.8297332297332296}, {\"n_estimators\": 5, \"max_depth\": \"5\", \"F1 Score\": 0.7364622414622415}, {\"n_estimators\": 10, \"max_depth\": \"5\", \"F1 Score\": 0.7584330484330485}, {\"n_estimators\": 25, \"max_depth\": \"5\", \"F1 Score\": 0.7651128501128501}, {\"n_estimators\": 50, \"max_depth\": \"5\", \"F1 Score\": 0.8363469863469863}, {\"n_estimators\": 75, \"max_depth\": \"5\", \"F1 Score\": 0.8363469863469863}, {\"n_estimators\": 100, \"max_depth\": \"5\", \"F1 Score\": 0.8312483812483812}, {\"n_estimators\": 5, \"max_depth\": \"10\", \"F1 Score\": 0.7258262108262108}, {\"n_estimators\": 10, \"max_depth\": \"10\", \"F1 Score\": 0.7846755096755096}, {\"n_estimators\": 25, \"max_depth\": \"10\", \"F1 Score\": 0.8260295260295261}, {\"n_estimators\": 50, \"max_depth\": \"10\", \"F1 Score\": 0.8129413179413179}, {\"n_estimators\": 75, \"max_depth\": \"10\", \"F1 Score\": 0.8129413179413179}, {\"n_estimators\": 100, \"max_depth\": \"10\", \"F1 Score\": 0.8242376142376141}, {\"n_estimators\": 5, \"max_depth\": \"10\", \"F1 Score\": 0.7905098605098604}, {\"n_estimators\": 10, \"max_depth\": \"10\", \"F1 Score\": 0.742996817996818}, {\"n_estimators\": 25, \"max_depth\": \"10\", \"F1 Score\": 0.7872101972101972}, {\"n_estimators\": 50, \"max_depth\": \"10\", \"F1 Score\": 0.8353080253080252}, {\"n_estimators\": 75, \"max_depth\": \"10\", \"F1 Score\": 0.8494157694157692}, {\"n_estimators\": 100, \"max_depth\": \"10\", \"F1 Score\": 0.8494157694157692}, {\"n_estimators\": 5, \"max_depth\": \"10\", \"F1 Score\": 0.7423604173604174}, {\"n_estimators\": 10, \"max_depth\": \"10\", \"F1 Score\": 0.741185807656396}, {\"n_estimators\": 25, \"max_depth\": \"10\", \"F1 Score\": 0.8280663780663782}, {\"n_estimators\": 50, \"max_depth\": \"10\", \"F1 Score\": 0.8515393865393864}, {\"n_estimators\": 75, \"max_depth\": \"10\", \"F1 Score\": 0.8628356828356827}, {\"n_estimators\": 100, \"max_depth\": \"10\", \"F1 Score\": 0.8515393865393864}, {\"n_estimators\": 5, \"max_depth\": \"15\", \"F1 Score\": 0.7258262108262108}, {\"n_estimators\": 10, \"max_depth\": \"15\", \"F1 Score\": 0.7846755096755096}, {\"n_estimators\": 25, \"max_depth\": \"15\", \"F1 Score\": 0.8260295260295261}, {\"n_estimators\": 50, \"max_depth\": \"15\", \"F1 Score\": 0.8129413179413179}, {\"n_estimators\": 75, \"max_depth\": \"15\", \"F1 Score\": 0.8129413179413179}, {\"n_estimators\": 100, \"max_depth\": \"15\", \"F1 Score\": 0.8242376142376141}, {\"n_estimators\": 5, \"max_depth\": \"15\", \"F1 Score\": 0.7905098605098604}, {\"n_estimators\": 10, \"max_depth\": \"15\", \"F1 Score\": 0.742996817996818}, {\"n_estimators\": 25, \"max_depth\": \"15\", \"F1 Score\": 0.7872101972101972}, {\"n_estimators\": 50, \"max_depth\": \"15\", \"F1 Score\": 0.8353080253080252}, {\"n_estimators\": 75, \"max_depth\": \"15\", \"F1 Score\": 0.8494157694157692}, {\"n_estimators\": 100, \"max_depth\": \"15\", \"F1 Score\": 0.8494157694157692}, {\"n_estimators\": 5, \"max_depth\": \"15\", \"F1 Score\": 0.7423604173604174}, {\"n_estimators\": 10, \"max_depth\": \"15\", \"F1 Score\": 0.741185807656396}, {\"n_estimators\": 25, \"max_depth\": \"15\", \"F1 Score\": 0.8280663780663782}, {\"n_estimators\": 50, \"max_depth\": \"15\", \"F1 Score\": 0.8515393865393864}, {\"n_estimators\": 75, \"max_depth\": \"15\", \"F1 Score\": 0.8628356828356827}, {\"n_estimators\": 100, \"max_depth\": \"15\", \"F1 Score\": 0.8515393865393864}, {\"n_estimators\": 5, \"max_depth\": \"20\", \"F1 Score\": 0.7258262108262108}, {\"n_estimators\": 10, \"max_depth\": \"20\", \"F1 Score\": 0.7846755096755096}, {\"n_estimators\": 25, \"max_depth\": \"20\", \"F1 Score\": 0.8260295260295261}, {\"n_estimators\": 50, \"max_depth\": \"20\", \"F1 Score\": 0.8129413179413179}, {\"n_estimators\": 75, \"max_depth\": \"20\", \"F1 Score\": 0.8129413179413179}, {\"n_estimators\": 100, \"max_depth\": \"20\", \"F1 Score\": 0.8242376142376141}, {\"n_estimators\": 5, \"max_depth\": \"20\", \"F1 Score\": 0.7905098605098604}, {\"n_estimators\": 10, \"max_depth\": \"20\", \"F1 Score\": 0.742996817996818}, {\"n_estimators\": 25, \"max_depth\": \"20\", \"F1 Score\": 0.7872101972101972}, {\"n_estimators\": 50, \"max_depth\": \"20\", \"F1 Score\": 0.8353080253080252}, {\"n_estimators\": 75, \"max_depth\": \"20\", \"F1 Score\": 0.8494157694157692}, {\"n_estimators\": 100, \"max_depth\": \"20\", \"F1 Score\": 0.8494157694157692}, {\"n_estimators\": 5, \"max_depth\": \"20\", \"F1 Score\": 0.7423604173604174}, {\"n_estimators\": 10, \"max_depth\": \"20\", \"F1 Score\": 0.741185807656396}, {\"n_estimators\": 25, \"max_depth\": \"20\", \"F1 Score\": 0.8280663780663782}, {\"n_estimators\": 50, \"max_depth\": \"20\", \"F1 Score\": 0.8515393865393864}, {\"n_estimators\": 75, \"max_depth\": \"20\", \"F1 Score\": 0.8628356828356827}, {\"n_estimators\": 100, \"max_depth\": \"20\", \"F1 Score\": 0.8515393865393864}]}}, {\"mode\": \"vega-lite\"});\n",
       "</script>"
      ],
      "text/plain": [
       "alt.FacetChart(...)"
      ]
     },
     "execution_count": 21,
     "metadata": {},
     "output_type": "execute_result"
    }
   ],
   "source": [
    "# plotting F1 score vs tree depth by number of trees\n",
    "max_depth_order = ['1', '5', '10', '15', '20', 'None']\n",
    "\n",
    "alt.Chart(gridsearch).mark_line().encode(\n",
    "    x = alt.X('max_depth:N', axis=alt.Axis(grid=True), sort=max_depth_order),\n",
    "    y = alt.Y('F1 Score:Q', scale=alt.Scale(domain=[0.50, 1.00])),\n",
    "    color=alt.Color('n_estimators:O')\n",
    ").properties(\n",
    "    height=150, \n",
    "    width=150\n",
    ").facet(\n",
    "    column=alt.Column('n_estimators:O')\n",
    ")"
   ]
  },
  {
   "cell_type": "code",
   "execution_count": null,
   "id": "12a408d6-732c-47e7-a870-a5a87928a9ec",
   "metadata": {},
   "outputs": [],
   "source": []
  }
 ],
 "metadata": {
  "kernelspec": {
   "display_name": "Python (new_base)",
   "language": "python",
   "name": "new_base"
  },
  "language_info": {
   "codemirror_mode": {
    "name": "ipython",
    "version": 3
   },
   "file_extension": ".py",
   "mimetype": "text/x-python",
   "name": "python",
   "nbconvert_exporter": "python",
   "pygments_lexer": "ipython3",
   "version": "3.11.10"
  }
 },
 "nbformat": 4,
 "nbformat_minor": 5
}
