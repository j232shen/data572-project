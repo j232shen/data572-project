{
 "cells": [
  {
   "cell_type": "code",
   "execution_count": 22,
   "id": "94b2c01c-1f6a-4fce-9927-f25ea0ea81bd",
   "metadata": {},
   "outputs": [],
   "source": [
    "import pandas as pd\n",
    "import numpy as np\n",
    "\n",
    "from sklearn import metrics  \n",
    "# from sklearn.model_selection import cross_val_score\n",
    "from sklearn.model_selection import cross_val_predict\n",
    "from sklearn.metrics import classification_report\n",
    "from sklearn.ensemble import RandomForestClassifier"
   ]
  },
  {
   "cell_type": "code",
   "execution_count": 18,
   "id": "d9e438bf-f665-4e5e-9b0b-4029e626260c",
   "metadata": {},
   "outputs": [
    {
     "name": "stdout",
     "output_type": "stream",
     "text": [
      "<class 'pandas.core.frame.DataFrame'>\n",
      "RangeIndex: 847 entries, 0 to 846\n",
      "Data columns (total 7 columns):\n",
      " #   Column       Non-Null Count  Dtype  \n",
      "---  ------       --------------  -----  \n",
      " 0   pH           847 non-null    float64\n",
      " 1   Temperature  847 non-null    float64\n",
      " 2   Colour       847 non-null    float64\n",
      " 3   Taste        847 non-null    int64  \n",
      " 4   Odor         847 non-null    int64  \n",
      " 5   Fat          847 non-null    int64  \n",
      " 6   Turbidity    847 non-null    int64  \n",
      "dtypes: float64(3), int64(4)\n",
      "memory usage: 46.4 KB\n",
      "<class 'pandas.core.series.Series'>\n",
      "RangeIndex: 847 entries, 0 to 846\n",
      "Series name: Grade\n",
      "Non-Null Count  Dtype\n",
      "--------------  -----\n",
      "847 non-null    int64\n",
      "dtypes: int64(1)\n",
      "memory usage: 6.7 KB\n"
     ]
    }
   ],
   "source": [
    "train_data = pd.read_csv('train_data.csv')\n",
    "y_train = train_data['Grade'] # series not df\n",
    "X_train = train_data.drop(columns=['Grade'])\n",
    "\n",
    "test_data = pd.read_csv('test_data.csv')\n",
    "y_test = test_data['Grade']\n",
    "X_test = test_data.drop(columns=['Grade'])\n",
    "\n",
    "X_train.info()\n",
    "y_train.info()"
   ]
  },
  {
   "cell_type": "code",
   "execution_count": 17,
   "id": "21a609df-0dde-4b78-9f70-7aeec0890b62",
   "metadata": {},
   "outputs": [
    {
     "data": {
      "text/plain": [
       "<Axes: >"
      ]
     },
     "execution_count": 17,
     "metadata": {},
     "output_type": "execute_result"
    },
    {
     "data": {
      "image/png": "[encoded data removed]",
      "text/plain": [
       "<Figure size 640x480 with 1 Axes>"
      ]
     },
     "metadata": {},
     "output_type": "display_data"
    }
   ],
   "source": [
    "y_train.hist() # checking class balance"
   ]
  },
  {
   "cell_type": "markdown",
   "id": "60fe12e1-1976-47ba-8075-b9ec79cc77f6",
   "metadata": {},
   "source": [
    "https://scikit-learn.org/1.6/modules/generated/sklearn.ensemble.RandomForestClassifier.html\n",
    "https://www.geeksforgeeks.org/random-forest-classifier-using-scikit-learn/\n",
    "\n",
    "Random forest classifier parameters:\n",
    "- `n_estimators` (B): number of trees in the forest\n",
    "    - default = 100\n",
    "    - generally more is better but time-consuming\n",
    "- `max_depth`: maximum depth of each tree\n",
    "    - default = None\n",
    "    - deeper trees can capture more complex patterns, but also risk overfitting\n",
    "    - experiment with values between 5 and 15, and consider lower values for smaller datasets\n",
    "- `max_features` (m): number of features considered for splitting at each node\n",
    "    - default = 'sqrt' (square root of total number of features p)\n",
    "    - adjust based on dataset size and feature importance\n",
    "- `criterion`: function used to measure split quality ('gini' or 'entropy')\n",
    "    - gini is often slightly faster, but both are similar in performance\n",
    "- `min_samples_split`: minimum samples requires to split a node\n",
    "    - default = 2\n",
    "    - higher values can prevent overfitting, too high can hinder model complexity\n",
    "- `min_samples_leaf`: minimum samples required to be at a leaf node (prediction)\n",
    "    - default = 1\n",
    "- `bootstrap`: whether to use bootstrap sampling when building trees (True or False)\n",
    "    - default = True"
   ]
  },
  {
   "cell_type": "code",
   "execution_count": 30,
   "id": "d545d896-8f77-4a94-9f80-9bf0ee51b272",
   "metadata": {},
   "outputs": [
    {
     "name": "stdout",
     "output_type": "stream",
     "text": [
      "Cross-validation classification report\n",
      "              precision    recall  f1-score   support\n",
      "\n",
      "           0       1.00      1.00      1.00       351\n",
      "           1       1.00      1.00      1.00       288\n",
      "           2       1.00      1.00      1.00       208\n",
      "\n",
      "    accuracy                           1.00       847\n",
      "   macro avg       1.00      1.00      1.00       847\n",
      "weighted avg       1.00      1.00      1.00       847\n",
      "\n",
      "Test classification report\n",
      "              precision    recall  f1-score   support\n",
      "\n",
      "           0       1.00      0.99      0.99        78\n",
      "           1       1.00      1.00      1.00        86\n",
      "           2       0.98      1.00      0.99        48\n",
      "\n",
      "    accuracy                           1.00       212\n",
      "   macro avg       0.99      1.00      0.99       212\n",
      "weighted avg       1.00      1.00      1.00       212\n",
      "\n"
     ]
    }
   ],
   "source": [
    "# default RF classifier\n",
    "clf = RandomForestClassifier(random_state=42)\n",
    "\n",
    "# get cross-validated predictions and performance report\n",
    "y_val_pred = cross_val_predict(clf, X_train, y_train, cv=5)\n",
    "cv_report = classification_report(y_train, y_val_pred)\n",
    "print('Cross-validation classification report')\n",
    "print(cv_report)\n",
    "\n",
    "# train the model on the entire training set\n",
    "clf.fit(X_train, y_train)\n",
    "\n",
    "# get test predictions and performance report\n",
    "y_test_pred = clf.predict(X_test)\n",
    "test_report = classification_report(y_test, y_test_pred)\n",
    "print('Test classification report')\n",
    "print(test_report)"
   ]
  },
  {
   "cell_type": "code",
   "execution_count": null,
   "id": "81df2ddc-8472-44a6-8c59-c411dd328335",
   "metadata": {},
   "outputs": [],
   "source": []
  }
 ],
 "metadata": {
  "kernelspec": {
   "display_name": "Python (new_base)",
   "language": "python",
   "name": "new_base"
  },
  "language_info": {
   "codemirror_mode": {
    "name": "ipython",
    "version": 3
   },
   "file_extension": ".py",
   "mimetype": "text/x-python",
   "name": "python",
   "nbconvert_exporter": "python",
   "pygments_lexer": "ipython3",
   "version": "3.11.10"
  }
 },
 "nbformat": 4,
 "nbformat_minor": 5
}
