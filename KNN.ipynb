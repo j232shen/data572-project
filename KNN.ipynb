{
 "cells": [
  {
   "cell_type": "markdown",
   "metadata": {},
   "source": [
    "\n",
    "Applying bootstrap resampling to a K-Nearest Neighbors (KNN) classifier can be challenging due to the nature of KNN's decision boundaries. KNN relies on the proximity of data points, and bootstrapping—sampling with replacement—can lead to high overlap between training subsets, resulting in similar models that don't effectively reduce variance. This overlap diminishes the benefits of bagging, a technique that combines multiple models to improve stability and accuracy. \n",
    "STATS.STACKEXCHANGE.COM\n",
    "\n",
    "Instead of bootstrapping, consider using the Random Subspace Method, which involves training each model on a random subset of features. This approach can enhance the diversity of the models and improve performance. \n",
    "STATS.STACKEXCHANGE.COM\n",
    "\n",
    "Alternatively, ensemble methods like BaggingClassifier in scikit-learn can be used with KNN to create an ensemble of KNN classifiers trained on different subsets of the data. This method can help reduce variance and improve the robustness of the model. \n",
    "EDUCATIONALRESEARCHTECHNIQUES.COM\n",
    "\n",
    "In summary, while bootstrap resampling with KNN is not typically recommended due to the classifier's sensitivity to data overlap, exploring ensemble methods like Random Subspace or BaggingClassifier can be more effective strategies for improving model performance."
   ]
  },
  {
   "cell_type": "code",
   "execution_count": 2,
   "metadata": {},
   "outputs": [],
   "source": [
    "import pandas as pd\n",
    "import numpy as np\n",
    "\n",
    "from sklearn.ensemble import BaggingClassifier\n",
    "from sklearn.neighbors import KNeighborsClassifier\n",
    "from sklearn.model_selection import train_test_split\n",
    "from sklearn.preprocessing import MinMaxScaler"
   ]
  },
  {
   "cell_type": "code",
   "execution_count": 3,
   "metadata": {},
   "outputs": [
    {
     "name": "stdout",
     "output_type": "stream",
     "text": [
      "<class 'pandas.core.frame.DataFrame'>\n",
      "RangeIndex: 847 entries, 0 to 846\n",
      "Data columns (total 7 columns):\n",
      " #   Column       Non-Null Count  Dtype  \n",
      "---  ------       --------------  -----  \n",
      " 0   pH           847 non-null    float64\n",
      " 1   Temperature  847 non-null    float64\n",
      " 2   Colour       847 non-null    float64\n",
      " 3   Taste        847 non-null    int64  \n",
      " 4   Odor         847 non-null    int64  \n",
      " 5   Fat          847 non-null    int64  \n",
      " 6   Turbidity    847 non-null    int64  \n",
      "dtypes: float64(3), int64(4)\n",
      "memory usage: 46.4 KB\n",
      "<class 'pandas.core.series.Series'>\n",
      "RangeIndex: 847 entries, 0 to 846\n",
      "Series name: Grade\n",
      "Non-Null Count  Dtype\n",
      "--------------  -----\n",
      "847 non-null    int64\n",
      "dtypes: int64(1)\n",
      "memory usage: 6.7 KB\n"
     ]
    }
   ],
   "source": [
    "train_data = pd.read_csv('train_data.csv')\n",
    "y_train = train_data['Grade'] # series not df\n",
    "X_train = train_data.drop(columns=['Grade'])\n",
    "\n",
    "test_data = pd.read_csv('test_data.csv')\n",
    "y_test = test_data['Grade']\n",
    "X_test = test_data.drop(columns=['Grade'])\n",
    "\n",
    "X_train.info()\n",
    "y_train.info()"
   ]
  },
  {
   "cell_type": "code",
   "execution_count": 5,
   "metadata": {},
   "outputs": [
    {
     "name": "stdout",
     "output_type": "stream",
     "text": [
      "Test set accuracy: 0.9858\n"
     ]
    }
   ],
   "source": [
    "# Initialize the KNN classifier\n",
    "knn = KNeighborsClassifier()\n",
    "\n",
    "# Initialize the BaggingClassifier with KNN as the base estimator\n",
    "# Set max_features to control the number of features each base estimator uses\n",
    "bagging = BaggingClassifier(estimator=knn, n_estimators=10, max_features=0.8, random_state=42)\n",
    "\n",
    "# Fit the BaggingClassifier on the training data\n",
    "bagging.fit(X_train, y_train)\n",
    "\n",
    "# Evaluate the model on the test data\n",
    "test_accuracy = bagging.score(X_test, y_test)\n",
    "print(f\"Test set accuracy: {test_accuracy:.4f}\")"
   ]
  },
  {
   "cell_type": "markdown",
   "metadata": {},
   "source": [
    "hypeparameters, cross-validation"
   ]
  }
 ],
 "metadata": {
  "kernelspec": {
   "display_name": "PythonAndR",
   "language": "python",
   "name": "python3"
  },
  "language_info": {
   "codemirror_mode": {
    "name": "ipython",
    "version": 3
   },
   "file_extension": ".py",
   "mimetype": "text/x-python",
   "name": "python",
   "nbconvert_exporter": "python",
   "pygments_lexer": "ipython3",
   "version": "3.12.5"
  }
 },
 "nbformat": 4,
 "nbformat_minor": 2
}
